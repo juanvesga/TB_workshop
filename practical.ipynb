{
 "cells": [
  {
   "cell_type": "markdown",
   "metadata": {},
   "source": [
    "# Modelling of interventions for TB in prisons\n",
    "\n",
    "##### Alliance meeting Paraguay EUSAT-RCS consortium, 2024"
   ]
  },
  {
   "cell_type": "markdown",
   "metadata": {},
   "source": [
    "Designed by Juan F. Vesga, 2024 "
   ]
  },
  {
   "cell_type": "markdown",
   "metadata": {},
   "source": [
    "During this session we will examine the impact of interventions targeted at different steps in the TB cascade of care, for a hypotehtical setting with high levels of transmission in prisons. For this purpose we will use a pre-coded TB transmission model. Our model is coded in R and all available functions are available in the folders with this notebook. The practical is designed for a wider audience (i.e, no need to be fluent in R!) and focuses on understanding TB dynamics under different interventions. Howevere, it should also be a good resource for those already fammiliar with Rvprogramming language and an introductory gate for those aiming at learning more about TB modelling in R. "
   ]
  },
  {
   "cell_type": "markdown",
   "metadata": {},
   "source": [
    "**The Model**"
   ]
  },
  {
   "attachments": {
    "modelstruc.png": {
     "image/png": "[encoded data removed]"
    }
   },
   "cell_type": "markdown",
   "metadata": {},
   "source": [
    "![modelstruc.png](attachment:modelstruc.png)\n",
    "\n",
    "This model has three separate transmission environments: The community, prisons and ex-prisioner population. The three dimensions replicate the same mechanistic approach to TB transmission. This is, uninfected individuals (U) get infected at a rate lambda which is defined by a per-capita effectve contact rate (beta) and the time vafrying prevalence of TB infectious individuals. Once infected, individuals can either mpve into the latent TB infection compartment (L) or fast-track into the active TB compartment (I). Transitions from L into I occur at a much slower rate reflecting the remote source of TB incidence known from the literature. Active TB has an average duration of 3 years, after which individuals can either die from te disease or recover. The recovered compartment (R) allows for re-infection and also relapse. The re-infection process from R is mediated by some form of immunity acquired thorugh previous infection.   "
   ]
  },
  {
   "cell_type": "code",
   "execution_count": null,
   "metadata": {
    "vscode": {
     "languageId": "r"
    }
   },
   "outputs": [],
   "source": [
    "# Load necessary libraries\n",
    "library(deSolve)\n",
    "library(gridExtra)\n",
    "library(ggplot2)\n",
    "library(reshape)"
   ]
  },
  {
   "cell_type": "code",
   "execution_count": null,
   "metadata": {
    "tags": [],
    "vscode": {
     "languageId": "r"
    }
   },
   "outputs": [],
   "source": [
    "# Model Parameters\n",
    "T.lfx    <- 72              # Life expectancy\n",
    "T.dur    <- 3               # Duration of infectious period\n",
    "mu       <- 1/T.lfx         # Background mortality rate\n",
    "mu_tb    <- 0.5*1/T.dur     # TB mortality rate\n",
    "fast     <- 0.1             # Fraction fast progressing to active TB\n",
    "imm      <- 0.5             # Infectiousness decline (partial immunity)\n",
    "relapse  <- 0.005           # Relapse rate\n",
    "r_incar  <- 200/1e5         # Incarceration rate\n",
    "r_reincar<- 1000/1e5        # Re-Incarceration rate\n",
    "r_release<- 0.5             # release rate (1/mean term time) \n",
    "RRc      <- 2               # Ratio of increase in contact in prison relative to community\n",
    "RRbreak_p<- 5               # relative increase in TB reactivation in prison\n",
    "RRbreak_x<- 2               # relative increase in TB reactivation in prison\n",
    "\n",
    "#Community params\n",
    "beta     <- 5               # Transmission rate per capita\n",
    "break_in <- 0.1*1/T.lfx     # Transition rate from latent to active disease\n",
    "selfcure <- 0.5*1/T.dur     # Rate of spontaneous cure\n",
    "\n",
    "#Prison params\n",
    "beta_p     <- beta*RRc         # Transmission rate per capita\n",
    "break_in_p <- break_in*RRbreak_p # Transition rate from latent to active disease\n",
    "fast_p     <- 0.1             # Fraction fast progressing to active TB\n",
    "selfcure_p <- 0.5*1/T.dur      # Rate of spontaneous cure\n",
    "\n",
    "#Prison params\n",
    "beta_x     <- beta             # Transmission rate per capita\n",
    "break_in_x <- break_in*RRbreak_x # Transition rate from latent to active disease\n",
    "selfcure_x <- 0.5*1/T.dur      # Rate of spontaneous cure\n"
   ]
  },
  {
   "cell_type": "code",
   "execution_count": null,
   "metadata": {
    "vscode": {
     "languageId": "r"
    }
   },
   "outputs": [],
   "source": [
    "# Load the R functions for TB transmission in prisons and for analysisng interventions\n",
    "source(\"R/TB_prison.r\")\n",
    "source(\"R/useful_functions.r\")"
   ]
  },
  {
   "cell_type": "code",
   "execution_count": null,
   "metadata": {
    "vscode": {
     "languageId": "r"
    }
   },
   "outputs": [],
   "source": [
    "t.intervention <- 400      # years of simulation\n",
    "t.scale        <- 3        # Scaling up time of interventions\n",
    "times <- seq(0, t.intervention, by = 1)          # time scale"
   ]
  },
  {
   "cell_type": "code",
   "execution_count": null,
   "metadata": {
    "vscode": {
     "languageId": "r"
    }
   },
   "outputs": [],
   "source": [
    "\n",
    "# Create\n",
    "params <- c(\n",
    "    break_in = break_in,\n",
    "    break_in_p = break_in_p,\n",
    "    selfcure = selfcure, \n",
    "    selfcure_p = selfcure_p, \n",
    "    mu = mu, \n",
    "    mu_tb = mu_tb,\n",
    "    beta = beta,\n",
    "    beta_p = beta_p, \n",
    "    fast = fast, \n",
    "    fast_p = fast_p, \n",
    "    imm = imm, \n",
    "    relapse = relapse,\n",
    "    r_incar=r_incar,\n",
    "    r_reincar=r_reincar,\n",
    "    r_release=r_release) \n",
    "\n",
    "# Initial Conditions\n",
    "N  <- 1                    # Total population equal to unity \n",
    "I0 <- 1e-6                 # TB seed at time 0\n",
    "Np  <- 0.005               # Total population equal to unity \n",
    "I0p <- 0.005*1e-6*10        # TB seed at time 0\n",
    "Nx  <- 0.005*0.5           # Total population equal to unity \n",
    "I0x <- 0.005*0.5*1e-6*5        # TB seed at time 0\n",
    "\n",
    "\n",
    "xstart <- data.frame(\n",
    "                     U = N-I0-Np-Nx,\n",
    "                     L = 0,\n",
    "                     I = I0,  \n",
    "                     R = 0,\n",
    "                     Ux = Nx-I0x,\n",
    "                     Lx = 0,\n",
    "                     Ix = I0x,  \n",
    "                     Rx = 0,\n",
    "                     Up = Np-I0p,\n",
    "                     Lp = 0,\n",
    "                     Ip = I0p,  \n",
    "                     Rp = 0,\n",
    "                     Incidence = 0, \n",
    "                     Irecent = 0, \n",
    "                     Iremote = 0,\n",
    "                     Incidence_x = 0, \n",
    "                     Irecent_x = 0, \n",
    "                     Iremote_x = 0,\n",
    "                     Incidence_p = 0, \n",
    "                     Irecent_p = 0, \n",
    "                     Iremote_p = 0)         "
   ]
  },
  {
   "cell_type": "code",
   "execution_count": null,
   "metadata": {
    "vscode": {
     "languageId": "r"
    }
   },
   "outputs": [],
   "source": [
    "out0  <- get_intervention(xstart, params, NA, times, NA, NA, TB_prison,\n",
    "\"Initial\", NA) \n",
    "\n",
    "# plot\n",
    "out0$inc_all"
   ]
  },
  {
   "cell_type": "code",
   "execution_count": null,
   "metadata": {
    "vscode": {
     "languageId": "r"
    }
   },
   "outputs": [],
   "source": [
    "# Function handles\n",
    "\n",
    "fx_basic<-TB_prison\n",
    "fx_scale<-function(t, state, parameters) scale_up(t, state, parameters,t.interv,params,fx_basic)"
   ]
  },
  {
   "cell_type": "code",
   "execution_count": null,
   "metadata": {
    "vscode": {
     "languageId": "r"
    }
   },
   "outputs": [],
   "source": [
    "## Simulation 0\n",
    "# Project a baseline\n",
    "int_name   <- \"Baseline\"\n",
    "\n",
    "#Initial conditions (starting in 2019)\n",
    "sfin       <- tail(out0$out,1)                             \n",
    "params_base<- params\n",
    "times_new  <- seq(t.intervention, t.intervention+25 , by=1)\n",
    "t.interv   <- c(times_new[2], times_new[2]+t.scale)\n",
    "\n",
    "#Run model\n",
    "data0<-get_intervention(sfin, params_base, params_base,times_new,\n",
    "                             NA, fx_scale,fx_basic, \"Baseline\", NA) \n",
    "#Plot\n",
    "grid.arrange(data0$inc_c ,data0$inc_p )\n",
    " \n",
    "\n"
   ]
  },
  {
   "cell_type": "code",
   "execution_count": null,
   "metadata": {
    "vscode": {
     "languageId": "r"
    }
   },
   "outputs": [],
   "source": [
    "\n",
    "fx_basic <- TB_prison\n",
    "fx_scale <- function(t, state, parameters) scale_up(t, state, parameters, t.interv, params, fx_basic)"
   ]
  },
  {
   "cell_type": "code",
   "execution_count": null,
   "metadata": {
    "vscode": {
     "languageId": "r"
    }
   },
   "outputs": [],
   "source": [
    "int_name    <- \"Baseline\"\n",
    "\n",
    "# Initial conditions (starting in 2019)\n",
    "sfin        <- tail(out0$out, 1)                             \n",
    "params_base <- params\n",
    "times_new   <- seq(t.intervention, t.intervention + 25, by = 1)\n",
    "t.interv    <- c(times_new[2], times_new[2] + t.scale)\n",
    "\n",
    "# Run model\n",
    "data0 <- get_intervention(sfin, params_base, params_base, times_new, NA,\n",
    "                          fx_scale, fx_basic, \"Baseline\", NA) \n",
    "# Plot\n",
    "grid.arrange(data0$inc_p, data0$inc_c)"
   ]
  },
  {
   "cell_type": "code",
   "execution_count": null,
   "metadata": {
    "vscode": {
     "languageId": "r"
    }
   },
   "outputs": [],
   "source": [
    "## Simulation 1\n",
    "# An Intervention simulating introduction of treatment\n",
    "int_name   <- \"Treatment\"\n",
    "\n",
    "#Update parameter results data frame to append new results\n",
    "params_1 <-params_base\n",
    "data_stub<-data0$data\n",
    "\n",
    "\n",
    "# Change parameters for intervention\n",
    "T.cs <- 1     # Time delay (yrs) between developing symptoms and seeking for care\n",
    "pDx  <- 0.95   # Probability of being diagnosed once sought care\n",
    "pTx  <- 0.95   # probability of receiving correct Tx if diagnosed\n",
    "T.rTx<- 0.5 # 6 months treatment duration\n",
    "\n",
    "Tx <-pDx*pTx*(1/(T.cs+T.rTx))\n",
    "\n",
    "params_1[\"selfcure\"]<-selfcure + Tx\n",
    "\n",
    "data1<-get_intervention(sfin, params_1, params_base,times_new,\n",
    "                       t.interv, fx_scale,fx_basic, int_name, data_stub) \n",
    "\n",
    "p1<-data1$lines +\n",
    "  # EndTb\n",
    "  geom_hline(yintercept=200*0.1, linetype=\"dashed\", color = \"black\", size=1)+\n",
    "  # Elimination\n",
    "  geom_hline(yintercept=0.1/1e5, linetype=\"dashed\", color = \"red\", size=1)\n",
    "\n",
    "\n",
    "grid.arrange(data1$inc_c ,data1$inc_p )"
   ]
  },
  {
   "cell_type": "code",
   "execution_count": null,
   "metadata": {
    "vscode": {
     "languageId": "r"
    }
   },
   "outputs": [],
   "source": [
    "## Simulation 2\n",
    "# An Intervention simulating demand generation\n",
    "int_name   <- \"Demand generation\"\n",
    "\n",
    "#Update parameter results data frame to append new results\n",
    "params_2 <-params_1\n",
    "data_stub<-data1$data\n",
    "\n",
    "# Change parameters for intervention\n",
    "T.cs <-  1*(1-0.75)    # Time delay (yrs) between developing symptoms and seeking for care\n",
    "pDx  <-  0.95     # Probability of being diagnosed once sought care\n",
    "pTx  <-  0.95     # probability of receiving correct Tx if diagnosed\n",
    "T.rTx<-  0.5     # 6 months treatment duration\n",
    "\n",
    "Tx <-pDx*pTx*(1/(T.cs+T.rTx))\n",
    "\n",
    "params_2[\"selfcure\"]<-selfcure + Tx\n",
    "\n",
    "data2<-get_intervention(sfin, params_2, params_BASE,times_new,\n",
    "                       t.interv, fx_scale,fx_basic, int_name, data_stub) \n",
    "\n",
    "# p1<-data2$lines +\n",
    "#   # EndTb\n",
    "#   geom_hline(yintercept=Inc.country*0.1, linetype=\"dashed\", color = \"black\", size=1)+\n",
    "#   # Elimination\n",
    "#   geom_hline(yintercept=0.1/1e5, linetype=\"dashed\", color = \"red\", size=1)\n",
    "\n",
    "\n",
    "grid.arrange(data2$inc_c ,data2$inc_p )"
   ]
  },
  {
   "cell_type": "code",
   "execution_count": null,
   "metadata": {
    "vscode": {
     "languageId": "r"
    }
   },
   "outputs": [],
   "source": [
    "## Simulation 3\n",
    "int_name<-\"Transmission stop\"\n",
    "\n",
    "#Update parameter results data frame to append new results\n",
    "params_3 <-params_2\n",
    "data_stub<-data2$data\n",
    "\n",
    "# An Intervention simulating transmission reduction\n",
    "\n",
    "params_3[\"beta\"]<-0\n",
    "\n",
    "\n",
    "data3<-get_intervention(sfin, params_3, params_base,times_new,\n",
    "                       t.interv, fx_scale,fx_basic, int_name, data_stub) \n",
    "\n",
    "p1<-data3$inc_c +\n",
    "  # EndTb\n",
    "  geom_hline(yintercept=210*0.1, linetype=\"dashed\", color = \"black\", size=1)+\n",
    "  # Elimination\n",
    "  geom_hline(yintercept=0.1/1e5, linetype=\"dashed\", color = \"red\", size=1)\n",
    "\n",
    "\n",
    "grid.arrange(p1 ,data3$inc_p )\n"
   ]
  },
  {
   "cell_type": "code",
   "execution_count": null,
   "metadata": {
    "vscode": {
     "languageId": "r"
    }
   },
   "outputs": [],
   "source": [
    "## Simulation 4\n",
    "# An Intervention simulating LTBI treatment\n",
    "int_name<- \"Prevention\"\n",
    "\n",
    "#Update parameter results data frame to append new results\n",
    "params_4 <-params_3\n",
    "data_stub<-data3$data\n",
    "\n",
    "params_4[\"break_in\"]<-0.01*(1/T.lfx)\n",
    "\n",
    "data4<-get_intervention(sfin, params_4, params_base,times_new,\n",
    "                       t.interv, fx_scale,fx_basic, int_name, data_stub) \n",
    "\n",
    "p1<-data4$inc_c +\n",
    "  # EndTb\n",
    "  geom_hline(yintercept=210*0.1, linetype=\"dashed\", color = \"black\", size=1)+\n",
    "  # Elimination\n",
    "  geom_hline(yintercept=0.1/1e5, linetype=\"dashed\", color = \"red\", size=1)\n",
    "\n",
    "\n",
    "grid.arrange(p1 ,data4$inc_p )"
   ]
  }
 ],
 "metadata": {
  "kernelspec": {
   "display_name": "R",
   "language": "R",
   "name": "ir"
  },
  "language_info": {
   "codemirror_mode": "r",
   "file_extension": ".r",
   "mimetype": "text/x-r-source",
   "name": "R",
   "pygments_lexer": "r",
   "version": "4.3.2"
  }
 },
 "nbformat": 4,
 "nbformat_minor": 2
}
