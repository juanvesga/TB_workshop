{
 "cells": [
  {
   "cell_type": "markdown",
   "metadata": {},
   "source": [
    "# Modelling of interventions for TB in prisons\n",
    "\n",
    "##### Alliance meeting Paraguay EUSAT-RCS consortium, 2024"
   ]
  },
  {
   "cell_type": "code",
   "execution_count": 9,
   "metadata": {
    "vscode": {
     "languageId": "r"
    }
   },
   "outputs": [
    {
     "ename": "ERROR",
     "evalue": "Error in library(reshape): there is no package called 'reshape'\n",
     "output_type": "error",
     "traceback": [
      "Error in library(reshape): there is no package called 'reshape'\nTraceback:\n",
      "1. library(reshape)"
     ]
    }
   ],
   "source": [
    "# Load necessary libraries\n",
    "library(deSolve)\n",
    "library(gridExtra)\n",
    "library(ggplot2)\n",
    "library(reshape)\n",
    "library(R6)\n",
    "library(vscDebugger)\n"
   ]
  },
  {
   "cell_type": "code",
   "execution_count": 10,
   "metadata": {
    "tags": [],
    "vscode": {
     "languageId": "r"
    }
   },
   "outputs": [],
   "source": [
    "# Model Parameters\n",
    "T.lfx    <- 72              # Life expectancy\n",
    "T.dur    <- 3               # Duration of infectious period\n",
    "mu       <- 1/T.lfx         # Background mortality rate\n",
    "mu_tb    <- 0.5*1/T.dur     # TB mortality rate\n",
    "fast     <- 0.1             # Fraction fast progressing to active TB\n",
    "imm      <- 0.5             # Infectiousness decline (partial immunity)\n",
    "relapse  <- 0.005           # Relapse rate\n",
    "phi      <- 0.0019          # Incarceration rate \n",
    "rho      <- 0.2             # release rate (1/mean term time) \n",
    "\n",
    "#Community params\n",
    "beta     <- 5              # Transmission rate per capita\n",
    "break_in <- 0.1*1/T.lfx     # Transition rate from latent to active disease\n",
    "selfcure <- 0.5*1/T.dur                # Rate of spontaneous cure\n",
    "\n",
    "#Prison params\n",
    "beta_p     <- 5              # Transmission rate per capita\n",
    "break_in_p <- 0.1*1/T.lfx     # Transition rate from latent to active disease\n",
    "selfcure_p <- 0.5*1/T.dur                # Rate of spontaneous cure\n",
    "\n"
   ]
  },
  {
   "cell_type": "code",
   "execution_count": 15,
   "metadata": {
    "vscode": {
     "languageId": "r"
    }
   },
   "outputs": [],
   "source": [
    "# Load the R functions for TB transmission in prisons and for analysisng interventions\n",
    "source('R/TB_prison.R')\n",
    "source('R/get_intervention.R')"
   ]
  },
  {
   "cell_type": "code",
   "execution_count": 16,
   "metadata": {
    "vscode": {
     "languageId": "r"
    }
   },
   "outputs": [],
   "source": [
    "t.intervention <- 400      # years of simulation\n",
    "t.scale        <- 3        # Scaling up time of interventions\n",
    "times <- seq(0, t.intervention, by = 1)          # time scale"
   ]
  },
  {
   "cell_type": "code",
   "execution_count": 17,
   "metadata": {
    "vscode": {
     "languageId": "r"
    }
   },
   "outputs": [],
   "source": [
    "# Create\n",
    "params <- c(\n",
    "    break_in = break_in,\n",
    "    break_in_p = break_in_p,\n",
    "    selfcure = selfcure, \n",
    "    selfcure_p = selfcure_p, \n",
    "    mu = mu, \n",
    "    mu_tb = mu_tb,\n",
    "    beta = beta,\n",
    "    beta_p = beta_p, \n",
    "    fast = fast, \n",
    "    imm = imm, \n",
    "    relapse = relapse) \n",
    "\n",
    "# Initial Conditions\n",
    "N  <- 1                  # Total population equal to unity \n",
    "I0 <- 1e-6                 # TB seed at time 0\n",
    "\n",
    "xstart <- data.frame(\n",
    "                     U = N-I0,\n",
    "                     L = 0,\n",
    "                     I = I0,  \n",
    "                     R = 0,\n",
    "                     Up = 0,\n",
    "                     Lp = 0,\n",
    "                     Ip = 0,  \n",
    "                     Rp = 0,\n",
    "                     Incidence = 0, \n",
    "                     Irecent = 0, \n",
    "                     Iremote = 0,\n",
    "                     Incidence_p = 0, \n",
    "                     Irecent_p = 0, \n",
    "                     Iremote_p = 0)            "
   ]
  },
  {
   "cell_type": "code",
   "execution_count": 19,
   "metadata": {
    "vscode": {
     "languageId": "r"
    }
   },
   "outputs": [
    {
     "name": "stdout",
     "output_type": "stream",
     "text": [
      "DLSODA-  At T (=R1), too much accuracy requested  \n",
      "      for precision of machine..  See TOLSF (=R2) \n",
      "In above message, R1 = 0.001, R2 = nan\n",
      " \n"
     ]
    },
    {
     "name": "stderr",
     "output_type": "stream",
     "text": [
      "Warning message in lsoda(y, times, func, parms, ...):\n",
      "\"Excessive precision requested.  scale up `rtol' and `atol' e.g by the factor 10\"\n",
      "Warning message in lsoda(y, times, func, parms, ...):\n",
      "\"Returning early. Results are accurate, as far as they go\"\n",
      "\u001b[1m\u001b[22m`geom_line()`: Each group consists of only one observation.\n",
      "\u001b[36mℹ\u001b[39m Do you need to adjust the \u001b[32mgroup\u001b[39m aesthetic?\n"
     ]
    },
    {
     "data": {
      "image/png": "[encoded data removed]",
      "text/plain": [
       "plot without title"
      ]
     },
     "metadata": {
      "image/png": {
       "height": 420,
       "width": 420
      }
     },
     "output_type": "display_data"
    }
   ],
   "source": [
    "out  <- get_intervention(xstart, params, NA, times, NA, NA, TB_prison,\n",
    "\"Initial\", NA) \n",
    "\n",
    "# plot\n",
    "out$lines1"
   ]
  },
  {
   "cell_type": "code",
   "execution_count": null,
   "metadata": {
    "vscode": {
     "languageId": "r"
    }
   },
   "outputs": [
    {
     "ename": "",
     "evalue": "",
     "output_type": "error",
     "traceback": [
      "\u001b[1;31mFailed to start the Kernel. \n",
      "\u001b[1;31mThe kernel 'R' was not started as it is located in an insecure location 'c:\\ProgramData\\jupyter\\kernels\\ir\\kernel.json'.  \n",
      "\u001b[1;31mClick <a href='https://aka.ms/JupyterTrustedKernelPaths'>here</a> for further details, optionally update the setting <a href='command:workbench.action.openSettings?[\"jupyter.kernels.trusted\"]'>jupyter.kernels.trusted</a> to trust the kernel."
     ]
    }
   ],
   "source": [
    "# :::::: FILL IN THE MISSING VALUES HERE \n",
    "\n",
    "Inc.country    <- 210  # TB incidence per 100,000 (including TB/HIV) \n",
    "country.name   <- \"Kenya\" # e.g., \"Sierra Leone\"\n",
    "params[\"beta\"] <- 5 # Transmission rate per capita per year\n",
    "# ::::::\n",
    "  \n",
    "  \n",
    "# run the model\n",
    "out0 <- get_intervention(xstart, params, NA, times, NA, NA, TB.Basic,\n",
    "                         \"Initial\", NA) \n",
    "\n",
    "# plot\n",
    "dot <- data.frame(Data = country.name, Years = 2017, incidence = Inc.country)\n",
    "\n",
    "p1 <- out0$lines +\n",
    "  geom_point(dot, mapping = aes(x = Years, y = incidence, col = Data), \n",
    "             size = 6, shape = 18) \n",
    "\n",
    "# Arrange plots in a grid\n",
    "grid.arrange(p1, out0$pie)"
   ]
  },
  {
   "cell_type": "code",
   "execution_count": null,
   "metadata": {
    "vscode": {
     "languageId": "r"
    }
   },
   "outputs": [
    {
     "ename": "",
     "evalue": "",
     "output_type": "error",
     "traceback": [
      "\u001b[1;31mFailed to start the Kernel. \n",
      "\u001b[1;31mThe kernel 'R' was not started as it is located in an insecure location 'c:\\ProgramData\\jupyter\\kernels\\ir\\kernel.json'.  \n",
      "\u001b[1;31mClick <a href='https://aka.ms/JupyterTrustedKernelPaths'>here</a> for further details, optionally update the setting <a href='command:workbench.action.openSettings?[\"jupyter.kernels.trusted\"]'>jupyter.kernels.trusted</a> to trust the kernel."
     ]
    }
   ],
   "source": [
    "scale_up <- function(t, state, parameters, t.interv, parameters_old, fx) {\n",
    "  \n",
    "  scale <- min((t - t.interv[1])/(t.interv[2] - t.interv[1]), 1) \n",
    "  if (scale < 0) \n",
    "  {\n",
    "    scale <- 0\n",
    "  }\n",
    "  \n",
    "  pars_scaled <- parameters\n",
    "  \n",
    "  pars_scaled <- parameters_old + scale * (parameters - parameters_old)\n",
    "  \n",
    "  return(fx(t, state, pars_scaled))\n",
    "}"
   ]
  },
  {
   "cell_type": "code",
   "execution_count": null,
   "metadata": {
    "vscode": {
     "languageId": "r"
    }
   },
   "outputs": [
    {
     "ename": "",
     "evalue": "",
     "output_type": "error",
     "traceback": [
      "\u001b[1;31mFailed to start the Kernel. \n",
      "\u001b[1;31mThe kernel 'R' was not started as it is located in an insecure location 'c:\\ProgramData\\jupyter\\kernels\\ir\\kernel.json'.  \n",
      "\u001b[1;31mClick <a href='https://aka.ms/JupyterTrustedKernelPaths'>here</a> for further details, optionally update the setting <a href='command:workbench.action.openSettings?[\"jupyter.kernels.trusted\"]'>jupyter.kernels.trusted</a> to trust the kernel."
     ]
    }
   ],
   "source": [
    "\n",
    "fx_basic <- TB.Basic\n",
    "fx_scale <- function(t, state, parameters) scale_up(t, state, parameters, t.interv, params, fx_basic)"
   ]
  },
  {
   "cell_type": "code",
   "execution_count": null,
   "metadata": {
    "vscode": {
     "languageId": "r"
    }
   },
   "outputs": [
    {
     "ename": "",
     "evalue": "",
     "output_type": "error",
     "traceback": [
      "\u001b[1;31mFailed to start the Kernel. \n",
      "\u001b[1;31mThe kernel 'R' was not started as it is located in an insecure location 'c:\\ProgramData\\jupyter\\kernels\\ir\\kernel.json'.  \n",
      "\u001b[1;31mClick <a href='https://aka.ms/JupyterTrustedKernelPaths'>here</a> for further details, optionally update the setting <a href='command:workbench.action.openSettings?[\"jupyter.kernels.trusted\"]'>jupyter.kernels.trusted</a> to trust the kernel."
     ]
    }
   ],
   "source": [
    "int_name    <- \"Baseline\"\n",
    "\n",
    "# Initial conditions (starting in 2019)\n",
    "sfin        <- tail(out0$out, 1)                             \n",
    "params_base <- params\n",
    "times_new   <- seq(t.intervention, t.intervention + 25, by = 1)\n",
    "t.interv    <- c(times_new[2], times_new[2] + t.scale)\n",
    "\n",
    "# Run model\n",
    "data0 <- get_intervention(sfin, params_base, params_base, times_new, NA,\n",
    "                          fx_scale, fx_basic, \"Baseline\", NA) \n",
    "# Plot\n",
    "grid.arrange(data0$lines, data0$pie)"
   ]
  },
  {
   "cell_type": "code",
   "execution_count": null,
   "metadata": {
    "vscode": {
     "languageId": "r"
    }
   },
   "outputs": [
    {
     "ename": "",
     "evalue": "",
     "output_type": "error",
     "traceback": [
      "\u001b[1;31mFailed to start the Kernel. \n",
      "\u001b[1;31mThe kernel 'R' was not started as it is located in an insecure location 'c:\\ProgramData\\jupyter\\kernels\\ir\\kernel.json'.  \n",
      "\u001b[1;31mClick <a href='https://aka.ms/JupyterTrustedKernelPaths'>here</a> for further details, optionally update the setting <a href='command:workbench.action.openSettings?[\"jupyter.kernels.trusted\"]'>jupyter.kernels.trusted</a> to trust the kernel."
     ]
    }
   ],
   "source": [
    "## Simulation 1\n",
    "# An Intervention simulating introduction of treatment\n",
    "\n",
    "int_name  <- \"Treatment\"\n",
    "times_new   <- seq(t.intervention, t.intervention + 25, by = 1)\n",
    "t.interv    <- c(times_new[2], times_new[2] + t.scale)\n",
    "\n",
    "# Update parameter results data frame to append new results\n",
    "params_1  <- params_base\n",
    "data_stub <- data0$data\n",
    "\n",
    "# :::: COMPLETE THE MISSING VALUES AND WRITE A TERM FOR RATE Tx\n",
    "\n",
    "# Change parameters for intervention\n",
    "T.cs  <-  1     # Time delay (yrs) between developing symptoms and seeking care\n",
    "pDx   <-  0.95     # Probability of being diagnosed once care sought\n",
    "pTx   <-  0.95     # probability of recieving correct Tx if diagnosed\n",
    "T.rTx <- 0.5   # 6 months treatment duration\n",
    "Tx    <- pDx*pTx*(1/(T.cs+T.rTx))\n",
    "\n",
    "# ::::\n",
    "  \n",
    "params_1[\"selfcure\"] <- selfcure + Tx\n",
    "\n",
    "data1 <- get_intervention(sfin, params_1, params_base, times_new, t.interv,\n",
    "                          fx_scale, fx_basic, int_name, data_stub) \n",
    "\n",
    "p1 <- data1$lines +\n",
    "  # EndTb\n",
    "  geom_hline(yintercept = Inc.country*0.1, linetype = \"dashed\", color = \"black\", size = 1) +\n",
    "  # Elimination\n",
    "  geom_hline(yintercept = 0.1/1e5, linetype = \"dashed\", color = \"red\", size = 1)\n",
    "\n",
    "\n",
    "grid.arrange(p1, data1$pie)"
   ]
  }
 ],
 "metadata": {
  "kernelspec": {
   "display_name": "R",
   "language": "R",
   "name": "ir"
  },
  "language_info": {
   "codemirror_mode": "r",
   "file_extension": ".r",
   "mimetype": "text/x-r-source",
   "name": "R",
   "pygments_lexer": "r",
   "version": "4.3.2"
  }
 },
 "nbformat": 4,
 "nbformat_minor": 2
}
